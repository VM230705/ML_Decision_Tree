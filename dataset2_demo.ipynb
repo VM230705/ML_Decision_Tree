{
 "cells": [
  {
   "cell_type": "markdown",
   "id": "934b83ed",
   "metadata": {},
   "source": [
    "# Dataset: sentiment-analysis-on-movie-reviews"
   ]
  },
  {
   "cell_type": "markdown",
   "id": "f5aa8034",
   "metadata": {},
   "source": [
    "The raw-data can be downloaded from http://www.kaggle.com/c/sentiment-analysis-on-movie-reviews/data. </p>\n",
    "First, let's explore the dataset using pandas. The columns of the dataset are tab-delimited. The dataset contains 156060 instances:"
   ]
  },
  {
   "cell_type": "code",
   "execution_count": 1,
   "id": "ab7c0d5d",
   "metadata": {},
   "outputs": [],
   "source": [
    "import pandas as pd\n",
    "from sklearn.tree import DecisionTreeClassifier\n",
    "from sklearn.model_selection import train_test_split\n",
    "from sklearn.metrics import confusion_matrix, classification_report, accuracy_score\n",
    "from bs4 import BeautifulSoup\n",
    "import re\n",
    "from tqdm import tqdm\n",
    "# import nltk\n",
    "# nltk.download('omw-1.4')\n",
    "from nltk.corpus import stopwords\n",
    "from nltk.tokenize import word_tokenize\n",
    "from nltk.stem import WordNetLemmatizer\n",
    "lemmatizer = WordNetLemmatizer()\n",
    "\n",
    "from keras.preprocessing.text import Tokenizer\n",
    "from keras.preprocessing import sequence\n",
    "from keras.utils import pad_sequences\n",
    "import warnings\n",
    "warnings.filterwarnings('ignore', category=UserWarning, module='bs4')\n",
    "\n",
    "# nltk.download('stopwords')\n",
    "# nltk.download('wordnet')\n",
    "# nltk.download('punkt')"
   ]
  },
  {
   "cell_type": "code",
   "execution_count": 2,
   "id": "102f456d",
   "metadata": {},
   "outputs": [],
   "source": [
    "def read_file(path):\n",
    "    rawdata = pd.read_excel(path, header=0)\n",
    "    return rawdata"
   ]
  },
  {
   "cell_type": "code",
   "execution_count": 33,
   "id": "351d037d",
   "metadata": {},
   "outputs": [],
   "source": [
    "def preprocess_data(df):\n",
    "    reviews = []\n",
    "    for raw in tqdm(df['Phrase']):\n",
    "#         print(raw)\n",
    "#         if(raw == 'nan'):\n",
    "#             print(\"got you\")\n",
    "        text = BeautifulSoup(raw, 'lxml').get_text()\n",
    "#         print(text)\n",
    "#         if(raw != text):\n",
    "#             input()\n",
    "#         if(raw == text):\n",
    "#             print(1)\n",
    "        only_text = re.sub('[^a-zA-Z]', ' ', text)\n",
    "        words = word_tokenize(only_text.lower())\n",
    "        stops = set(stopwords.words('english'))\n",
    "        non_stopwords = [word for word in words if not word in stops]\n",
    "        lemma_words = [lemmatizer.lemmatize(word) for word in non_stopwords]    \n",
    "        reviews.append(lemma_words)\n",
    "    return reviews"
   ]
  },
  {
   "cell_type": "code",
   "execution_count": 4,
   "id": "6fb102e7",
   "metadata": {},
   "outputs": [],
   "source": [
    "def tokenizer_preprocess(list_X_train, list_X_val):\n",
    "    unique_words = set()\n",
    "    len_max = 0\n",
    "    for sent in tqdm(list_X_train):\n",
    "        unique_words.update(sent)\n",
    "        if len_max < len(sent):\n",
    "            len_max = len(sent)\n",
    "    len(list(unique_words)), len_max\n",
    "\n",
    "    tokenizer = Tokenizer(num_words=len(list(unique_words)))\n",
    "    tokenizer.fit_on_texts(list(list_X_train))\n",
    "     \n",
    "    X_train = tokenizer.texts_to_sequences(list_X_train)\n",
    "    X_train = pad_sequences(X_train, maxlen=len_max)\n",
    "\n",
    "    X_val = tokenizer.texts_to_sequences(list_X_val)\n",
    "    X_val = pad_sequences(X_val, maxlen=len_max)\n",
    "\n",
    "    return X_train, X_val"
   ]
  },
  {
   "cell_type": "code",
   "execution_count": 5,
   "id": "2eca902a",
   "metadata": {},
   "outputs": [],
   "source": [
    "def report(predictions, y_test):\n",
    "    print('Accuracy: %s' % accuracy_score(y_test, predictions))\n",
    "    print('Confusion Matrix:')\n",
    "    print(confusion_matrix(y_test, predictions))\n",
    "    print('Classification Report:')\n",
    "    print(classification_report(y_test, predictions))"
   ]
  },
  {
   "cell_type": "code",
   "execution_count": 24,
   "id": "30dbc21c",
   "metadata": {},
   "outputs": [
    {
     "name": "stdout",
     "output_type": "stream",
     "text": [
      "                                              Phrase  Sentiment\n",
      "0                         going to a house party and          2\n",
      "1                                    a grand picture          4\n",
      "2                                lightweight meaning          1\n",
      "3                                    most unpleasant          1\n",
      "4  You can see the would-be surprises coming a mi...          1\n",
      "                                              Phrase  Sentiment\n",
      "0                         going to a house party and          2\n",
      "1                                    a grand picture          4\n",
      "2                                lightweight meaning          1\n",
      "3                                    most unpleasant          1\n",
      "4  You can see the would-be surprises coming a mi...          1\n",
      "                                              Phrase  Sentiment\n",
      "0                         going to a house party and          2\n",
      "1                                    a grand picture          4\n",
      "2                                lightweight meaning          1\n",
      "3                                    most unpleasant          1\n",
      "4  You can see the would-be surprises coming a mi...          1\n"
     ]
    }
   ],
   "source": [
    "dfx = read_file('./Dataset2_train/X_train.xlsx')\n",
    "dfy = read_file('./Dataset2_train/y_train.xlsx')\n",
    "df = pd.concat([dfx, dfy], axis=1)\n",
    "df = df.dropna()\n",
    "df = df.reset_index(drop=True)"
   ]
  },
  {
   "cell_type": "code",
   "execution_count": 7,
   "id": "961c924d",
   "metadata": {},
   "outputs": [
    {
     "name": "stdout",
     "output_type": "stream",
     "text": [
      "                                              Phrase  Sentiment\n",
      "0                         going to a house party and          2\n",
      "1                                    a grand picture          4\n",
      "2                                lightweight meaning          1\n",
      "3                                    most unpleasant          1\n",
      "4  You can see the would-be surprises coming a mi...          1\n"
     ]
    }
   ],
   "source": [
    "print (df.head(5))"
   ]
  },
  {
   "cell_type": "code",
   "execution_count": 8,
   "id": "b96a150d",
   "metadata": {},
   "outputs": [
    {
     "name": "stdout",
     "output_type": "stream",
     "text": [
      "0                           going to a house party and\n",
      "1                                      a grand picture\n",
      "2                                  lightweight meaning\n",
      "3                                      most unpleasant\n",
      "4    You can see the would-be surprises coming a mi...\n",
      "5    this too-extreme-for-TV rendition of the notor...\n",
      "6                    wickedly undramatic central theme\n",
      "7    ... a fascinating curiosity piece -- fascinati...\n",
      "8              fallible human beings , not caricatures\n",
      "9    is so prolonged and boring it is n't even clos...\n",
      "Name: Phrase, dtype: object\n"
     ]
    }
   ],
   "source": [
    "print(df['Phrase'].head(10))\n"
   ]
  },
  {
   "cell_type": "code",
   "execution_count": 25,
   "id": "5bffd70e",
   "metadata": {},
   "outputs": [
    {
     "name": "stdout",
     "output_type": "stream",
     "text": [
      "count    124847.000000\n",
      "mean          2.063582\n",
      "std           0.893847\n",
      "min           0.000000\n",
      "25%           2.000000\n",
      "50%           2.000000\n",
      "75%           3.000000\n",
      "max           4.000000\n",
      "Name: Sentiment, dtype: float64\n"
     ]
    }
   ],
   "source": [
    "print(df['Sentiment'].describe())"
   ]
  },
  {
   "cell_type": "code",
   "execution_count": 26,
   "id": "c3b3202c",
   "metadata": {
    "scrolled": true
   },
   "outputs": [
    {
     "name": "stdout",
     "output_type": "stream",
     "text": [
      "2    63664\n",
      "3    26342\n",
      "1    21818\n",
      "4     7365\n",
      "0     5658\n",
      "Name: Sentiment, dtype: int64\n"
     ]
    }
   ],
   "source": [
    "print(df['Sentiment'].value_counts())"
   ]
  },
  {
   "cell_type": "code",
   "execution_count": 27,
   "id": "f66ca844",
   "metadata": {},
   "outputs": [
    {
     "name": "stdout",
     "output_type": "stream",
     "text": [
      "2    0.509936\n",
      "3    0.210994\n",
      "1    0.174758\n",
      "4    0.058992\n",
      "0    0.045319\n",
      "Name: Sentiment, dtype: float64\n"
     ]
    }
   ],
   "source": [
    "print(df['Sentiment'].value_counts()/df['Sentiment'].count())"
   ]
  },
  {
   "cell_type": "code",
   "execution_count": 34,
   "id": "31b5c00c",
   "metadata": {
    "scrolled": false
   },
   "outputs": [
    {
     "name": "stderr",
     "output_type": "stream",
     "text": [
      "100%|████████████████████████████████████████████████████████████████████████| 124847/124847 [00:39<00:00, 3156.85it/s]\n"
     ]
    }
   ],
   "source": [
    "X, y = df['Phrase'], df['Sentiment']\n",
    "train_text = preprocess_data(df)\n",
    "target = df.Sentiment.values\n",
    "X_train, X_val, y_train, y_val = train_test_split(train_text, target, test_size=0.2, stratify=target)"
   ]
  },
  {
   "cell_type": "code",
   "execution_count": 29,
   "id": "2f12ac0e",
   "metadata": {},
   "outputs": [
    {
     "name": "stderr",
     "output_type": "stream",
     "text": [
      "100%|███████████████████████████████████████████████████████████████████████| 99877/99877 [00:00<00:00, 1229555.57it/s]\n"
     ]
    }
   ],
   "source": [
    "X_train_, X_val_ = tokenizer_preprocess(X_train, X_val)  "
   ]
  },
  {
   "cell_type": "code",
   "execution_count": 30,
   "id": "5345dd5a",
   "metadata": {},
   "outputs": [
    {
     "data": {
      "text/plain": [
       "(array([[   0,    0,    0, ...,    0,    0,  161],\n",
       "        [   0,    0,    0, ...,   30,  850, 1022],\n",
       "        [   0,    0,    0, ...,    0,    0,   43],\n",
       "        ...,\n",
       "        [   0,    0,    0, ...,  814, 7792,    7],\n",
       "        [   0,    0,    0, ...,    0, 1132,  153],\n",
       "        [   0,    0,    0, ..., 2667, 2221,   52]]),\n",
       " array([[    0,     0,     0, ...,     0,   592,   470],\n",
       "        [    0,     0,     0, ...,     2,   737,  2582],\n",
       "        [    0,     0,     0, ...,     0,     0,  5754],\n",
       "        ...,\n",
       "        [    0,     0,     0, ...,   861,   153,   462],\n",
       "        [    0,     0,     0, ...,     0,    91,  4550],\n",
       "        [    0,     0,     0, ...,     0, 11470,     9]]))"
      ]
     },
     "execution_count": 30,
     "metadata": {},
     "output_type": "execute_result"
    }
   ],
   "source": [
    "X_train_, X_val_"
   ]
  },
  {
   "cell_type": "code",
   "execution_count": 31,
   "id": "547d1307",
   "metadata": {},
   "outputs": [
    {
     "name": "stdout",
     "output_type": "stream",
     "text": [
      "30\n",
      "99877\n",
      "Accuracy: 0.5529034841810172\n",
      "Confusion Matrix:\n",
      "[[ 404  396  217   90   25]\n",
      " [ 503 1851 1513  405   92]\n",
      " [ 264 1747 8867 1638  217]\n",
      " [ 111  440 1999 2220  498]\n",
      " [  56  101  258  594  464]]\n",
      "Classification Report:\n",
      "              precision    recall  f1-score   support\n",
      "\n",
      "           0       0.30      0.36      0.33      1132\n",
      "           1       0.41      0.42      0.42      4364\n",
      "           2       0.69      0.70      0.69     12733\n",
      "           3       0.45      0.42      0.43      5268\n",
      "           4       0.36      0.32      0.34      1473\n",
      "\n",
      "    accuracy                           0.55     24970\n",
      "   macro avg       0.44      0.44      0.44     24970\n",
      "weighted avg       0.55      0.55      0.55     24970\n",
      "\n"
     ]
    }
   ],
   "source": [
    "model = DecisionTreeClassifier()\n",
    "model.fit(X_train_, y_train)\n",
    "print(len(X_train_[0]))\n",
    "print(len(X_train_))\n",
    "predictions = model.predict(X_val_)\n",
    "report(predictions, y_val)"
   ]
  },
  {
   "cell_type": "code",
   "execution_count": 32,
   "id": "3ad41819",
   "metadata": {},
   "outputs": [
    {
     "name": "stdout",
     "output_type": "stream",
     "text": [
      "[ 1338  4535 12854  4947  1296]\n",
      "[ 1132  4364 12733  5268  1473]\n"
     ]
    }
   ],
   "source": [
    "import numpy as np\n",
    "\n",
    "print(np.bincount(predictions))\n",
    "print(np.bincount(y_val))"
   ]
  },
  {
   "cell_type": "code",
   "execution_count": 37,
   "id": "963a7be0",
   "metadata": {},
   "outputs": [
    {
     "name": "stdout",
     "output_type": "stream",
     "text": [
      "Decision Tree Train Accuracy Score : 88% \n",
      "Decision Tree Test Accuracy Score  : 61% \n",
      "\n"
     ]
    }
   ],
   "source": [
    "import nltk\n",
    "from keras.preprocessing.text import text_to_word_sequence\n",
    "from nltk.tokenize import word_tokenize\n",
    "from nltk.stem import PorterStemmer\n",
    "from nltk.stem import WordNetLemmatizer\n",
    "from sklearn.feature_extraction.text import TfidfVectorizer\n",
    "from sklearn.feature_extraction.text import TfidfTransformer\n",
    "from sklearn.pipeline import Pipeline\n",
    "\n",
    "def TextPreprocessing(text):\n",
    "    text=str(text)\n",
    "    #remove single quotes\n",
    "    text = text.replace(\"'\",\"\")\n",
    "    #word tokenization using text-to-word-sequence\n",
    "    tokenized_train_data = text_to_word_sequence(text,filters='!\"#$%&()*+,-./:;<=>?@[\\\\]^_`{|}~\\t\\n',split=\" \")\n",
    "    #stop word removal \n",
    "    stop_words = set(stopwords.words('english'))\n",
    "    stopwordremove = [i for i in tokenized_train_data if not i in stop_words]\n",
    "    #join word into sent\n",
    "    stopwordremove_text = ' '.join(stopwordremove)\n",
    "    #remove Digit\n",
    "    numberRemove = ''.join(num for num in stopwordremove_text if not num.isdigit())\n",
    "#     print(numberRemove)\n",
    "    stemmer = PorterStemmer()\n",
    "    stem_input = nltk.word_tokenize(numberRemove)\n",
    "    stem_text = ' '.join([stemmer.stem(word) for word in stem_input])\n",
    "    return stem_text\n",
    "#     lemmatizer = WordNetLemmatizer()\n",
    "\n",
    "\n",
    "dfx = read_file('./Dataset2_train/X_train.xlsx')\n",
    "dfy = read_file('./Dataset2_train/y_train.xlsx')\n",
    "# dfx = read_file('./Dataset1_train/train/X_train.xlsx')\n",
    "# dfy = read_file('./Dataset1_train/train/y_train.xlsx')\n",
    "train_data = pd.concat([dfx, dfy], axis=1)\n",
    "train_df = train_data[['Phrase','Sentiment']]\n",
    "phrase = train_df['Phrase']\n",
    "sentiment = train_df['Sentiment']\n",
    "\n",
    "df = train_df['Phrase'].copy()\n",
    "train_df['Phrase'] = train_df['Phrase'].apply(TextPreprocessing)\n",
    "\n",
    "train_df['Phrase'].replace('',np.nan,inplace =True)\n",
    "train_df.dropna(subset = ['Phrase'],inplace =True)\n",
    "\n",
    "phrase = train_df['Phrase']\n",
    "sentiment = train_df['Sentiment']\n",
    "\n",
    "train_x,test_x,train_y,test_y = train_test_split(phrase,sentiment,test_size=0.2,random_state=2)\n",
    "\n",
    "vectorizer = TfidfVectorizer()\n",
    "tfidf_text = vectorizer.fit_transform(train_x)\n",
    "\n",
    "\n",
    "dt = Pipeline([('tfidf', TfidfVectorizer()),\n",
    "                ('dt', DecisionTreeClassifier()),\n",
    "               ])\n",
    "\n",
    "dt.fit(train_x, train_y)\n",
    "\n",
    "test_predict = dt.predict(test_x)\n",
    "\n",
    "train_accuracy = round(dt.score(train_x, train_y)*100)\n",
    "test_accuracy =round(accuracy_score(test_predict, test_y)*100)\n",
    "\n",
    "print(\"Decision Tree Train Accuracy Score : {}% \".format(train_accuracy ))\n",
    "print(\"Decision Tree Test Accuracy Score  : {}% \".format(test_accuracy ))\n",
    "print()"
   ]
  },
  {
   "cell_type": "code",
   "execution_count": 38,
   "id": "bc1ec13e",
   "metadata": {},
   "outputs": [
    {
     "name": "stdout",
     "output_type": "stream",
     "text": [
      "Accuracy: 0.6119801139808415\n",
      "Confusion Matrix:\n",
      "[[ 484  474  116   42    9]\n",
      " [ 521 2184 1507  187   13]\n",
      " [ 162 1454 9393 1363   86]\n",
      " [  37  231 1984 2530  497]\n",
      " [  11   29  170  707  550]]\n",
      "Classification Report:\n",
      "              precision    recall  f1-score   support\n",
      "\n",
      "           0       0.40      0.43      0.41      1125\n",
      "           1       0.50      0.50      0.50      4412\n",
      "           2       0.71      0.75      0.73     12458\n",
      "           3       0.52      0.48      0.50      5279\n",
      "           4       0.48      0.37      0.42      1467\n",
      "\n",
      "    accuracy                           0.61     24741\n",
      "   macro avg       0.52      0.51      0.51     24741\n",
      "weighted avg       0.61      0.61      0.61     24741\n",
      "\n"
     ]
    }
   ],
   "source": [
    "report(test_predict, test_y)"
   ]
  }
 ],
 "metadata": {
  "kernelspec": {
   "display_name": "Python 3 (ipykernel)",
   "language": "python",
   "name": "python3"
  },
  "language_info": {
   "codemirror_mode": {
    "name": "ipython",
    "version": 3
   },
   "file_extension": ".py",
   "mimetype": "text/x-python",
   "name": "python",
   "nbconvert_exporter": "python",
   "pygments_lexer": "ipython3",
   "version": "3.9.12"
  }
 },
 "nbformat": 4,
 "nbformat_minor": 5
}
