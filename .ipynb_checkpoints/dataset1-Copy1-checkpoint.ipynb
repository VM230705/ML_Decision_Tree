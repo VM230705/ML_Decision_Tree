{
 "cells": [
  {
   "cell_type": "markdown",
   "id": "934b83ed",
   "metadata": {},
   "source": [
    "# Dataset: sentiment-analysis-on-movie-reviews"
   ]
  },
  {
   "cell_type": "markdown",
   "id": "f5aa8034",
   "metadata": {},
   "source": [
    "The raw-data can be downloaded from http://www.kaggle.com/c/sentiment-analysis-on-movie-reviews/data. </p>\n",
    "First, let's explore the dataset using pandas. The columns of the dataset are tab-delimited. The dataset contains 156060 instances:"
   ]
  },
  {
   "cell_type": "code",
   "execution_count": 116,
   "id": "ab7c0d5d",
   "metadata": {},
   "outputs": [],
   "source": [
    "from sklearn.model_selection import train_test_split\n",
    "from sklearn.metrics import confusion_matrix, classification_report, accuracy_score\n",
    "from sklearn.feature_extraction.text import TfidfVectorizer\n",
    "from sklearn.feature_extraction.text import TfidfTransformer\n",
    "from sklearn.pipeline import Pipeline\n",
    "from bs4 import BeautifulSoup\n",
    "import re\n",
    "from tqdm import tqdm\n",
    "# import nltk\n",
    "# nltk.download('omw-1.4')\n",
    "from nltk.corpus import stopwords\n",
    "from nltk.tokenize import word_tokenize\n",
    "from nltk.stem import WordNetLemmatizer\n",
    "lemmatizer = WordNetLemmatizer()\n",
    "\n",
    "from keras.preprocessing.text import Tokenizer\n",
    "from keras.preprocessing import sequence\n",
    "from keras.utils import pad_sequences\n",
    "import warnings\n",
    "warnings.filterwarnings('ignore', category=UserWarning, module='bs4')\n",
    "\n",
    "# nltk.download('stopwords')\n",
    "# nltk.download('wordnet')\n",
    "# nltk.download('punkt')"
   ]
  },
  {
   "cell_type": "code",
   "execution_count": 117,
   "id": "7a13d3b5",
   "metadata": {},
   "outputs": [],
   "source": [
    "import os \n",
    "import numpy as np\n",
    "import pandas as pd\n",
    "import seaborn as sns\n",
    "from sklearn.impute import KNNImputer"
   ]
  },
  {
   "cell_type": "code",
   "execution_count": 118,
   "id": "102f456d",
   "metadata": {},
   "outputs": [],
   "source": [
    "def read_file(path):\n",
    "    filename, extension = os.path.splitext(path)\n",
    "\n",
    "    if extension == '.csv':\n",
    "        rawdata = pd.read_csv(path, header=0, delimiter=',')\n",
    "    elif extension == '.xlsx':\n",
    "        rawdata = pd.read_excel(path, header=0)\n",
    "    elif extension == '.tsv':\n",
    "        rawdata = pd.read_csv(path, header=0, delimiter='\\t')\n",
    "    return rawdata"
   ]
  },
  {
   "cell_type": "code",
   "execution_count": 119,
   "id": "351d037d",
   "metadata": {},
   "outputs": [],
   "source": [
    "def preprocess_data(df):\n",
    "    reviews = []\n",
    "    for raw in tqdm(df['Phrase']):\n",
    "        text = BeautifulSoup(raw, 'lxml').get_text()\n",
    "        only_text = re.sub('[^a-zA-Z]', ' ', text)\n",
    "        words = word_tokenize(only_text.lower())\n",
    "        stops = set(stopwords.words('english'))\n",
    "        non_stopwords = []\n",
    "        #non_stopwords = [word for word in words if not word in stops]\n",
    "        for word in words:\n",
    "            if not word in stops:\n",
    "                non_stopwords.append(word)\n",
    "            else:\n",
    "                pass\n",
    "        lemma_words = [lemmatizer.lemmatize(word) for word in non_stopwords]    \n",
    "        reviews.append(lemma_words)\n",
    "#         print(\"text  = \", text)\n",
    "#         print(\"only = \", only_text)\n",
    "#         print(\"words = \", words)\n",
    "#         print(\"stops = \", stops)\n",
    "#         print(\"non stops = \", non_stopwords)\n",
    "#         print(\"lemma = \", lemma_words)\n",
    "#         print(\"-------------------------------\")\n",
    "    return reviews"
   ]
  },
  {
   "cell_type": "code",
   "execution_count": 120,
   "id": "6fb102e7",
   "metadata": {},
   "outputs": [],
   "source": [
    "def tokenizer_preprocess(list_X_train, list_X_val):\n",
    "    unique_words = set()\n",
    "    len_max = 0\n",
    "    for sent in tqdm(list_X_train):\n",
    "        unique_words.update(sent)\n",
    "        if len_max < len(sent):\n",
    "            len_max = len(sent)\n",
    "    len(list(unique_words)), len_max\n",
    "\n",
    "    tokenizer = Tokenizer(num_words=len(list(unique_words)))\n",
    "    tokenizer.fit_on_texts(list(list_X_train))\n",
    "     \n",
    "    X_train = tokenizer.texts_to_sequences(list_X_train)\n",
    "    X_train = pad_sequences(X_train, maxlen=len_max)\n",
    "\n",
    "    X_val = tokenizer.texts_to_sequences(list_X_val)\n",
    "    X_val = pad_sequences(X_val, maxlen=len_max)\n",
    "\n",
    "    return X_train, X_val"
   ]
  },
  {
   "cell_type": "code",
   "execution_count": 121,
   "id": "2eca902a",
   "metadata": {},
   "outputs": [],
   "source": [
    "def report(predictions, y_test):\n",
    "    print('Accuracy: %s' % accuracy_score(y_test, predictions))\n",
    "    print('Confusion Matrix:')\n",
    "    print(confusion_matrix(y_test, predictions))\n",
    "    print('Classification Report:')\n",
    "    print(classification_report(y_test, predictions))"
   ]
  },
  {
   "cell_type": "code",
   "execution_count": 122,
   "id": "870466a9",
   "metadata": {},
   "outputs": [],
   "source": [
    "class Node:\n",
    "    def __init__(self, feature=None, threshold=None, left=None, right=None, *, value=None):\n",
    "        self.feature = feature\n",
    "        self.threshold = threshold\n",
    "        self.left = left\n",
    "        self.right = right\n",
    "        self.value = value\n",
    "    \n",
    "    def is_leaf(self):\n",
    "        return self.value is not None"
   ]
  },
  {
   "cell_type": "code",
   "execution_count": 123,
   "id": "a2f20e22",
   "metadata": {},
   "outputs": [],
   "source": [
    "class DecisionTree:\n",
    "    def __init__(self, max_depth=None, min_samples_split=5, method=\"entropy\"):\n",
    "        self.max_depth = max_depth\n",
    "        self.min_samples_split = min_samples_split\n",
    "        self.method = method\n",
    "        self.root = None\n",
    "        self.classes = None\n",
    "        self.deepest = 0\n",
    "\n",
    "    def _is_finished(self, depth, parent_samples):\n",
    "        \"\"\"Check if stop to grow or not.\"\"\"\n",
    "        if (self.max_depth is not None and depth >= self.max_depth\n",
    "            or self.classes == 1\n",
    "            or self.n_samples < self.min_samples_split\n",
    "            or self.n_samples == parent_samples\n",
    "            or self.n_samples == 0):\n",
    "            return True\n",
    "        return False\n",
    "\n",
    "    def _entropy(self, y):\n",
    "        \"\"\"Calculate the entropy of a given set of labels.\"\"\"\n",
    "        proportions = np.bincount(y) / len(y)\n",
    "        entropy = -np.sum([p * np.log2(p) for p in proportions if p > 0])\n",
    "        return entropy\n",
    "\n",
    "    def _gini_index(self, y):\n",
    "        \"\"\"Calculate the Gini index of a given set of labels.\"\"\"\n",
    "        proportions = np.bincount(y) / len(y)\n",
    "        gini = 1 - np.sum([p*p for p in proportions if p > 0])\n",
    "        return gini\n",
    "\n",
    "    def _create_split(self, X, thresh):\n",
    "        \"\"\"Create a split in the data based on a given threshold.\"\"\"\n",
    "        left_idx = np.argwhere(X <= thresh).flatten()\n",
    "        right_idx = np.argwhere(X > thresh).flatten()\n",
    "        return left_idx, right_idx\n",
    "\n",
    "    def _information_gain(self, X, y, thresh):\n",
    "        \"\"\"Calculate the information gain from splitting on a given feature and threshold.\"\"\"\n",
    "        left_idx, right_idx = self._create_split(X, thresh)\n",
    "        n, n_left, n_right = len(y), len(left_idx), len(right_idx)\n",
    "\n",
    "        if n_left == 0 or n_right == 0: \n",
    "                return 0\n",
    "        if self.method == \"gini\":\n",
    "            parent_loss = self._gini_index(y)\n",
    "            child_loss = (n_left / n) * self._gini_index(y[left_idx]) + (n_right / n) * self._gini_index(y[right_idx])\n",
    "        else:\n",
    "            parent_loss = self._entropy(y)\n",
    "            child_loss = (n_left / n) * self._entropy(y[left_idx]) + (n_right / n) * self._entropy(y[right_idx])\n",
    "        return parent_loss - child_loss\n",
    "\n",
    "    def _best_split(self, X, y, features):\n",
    "        split = {'score':- 1, 'feat': None, 'thresh': None}\n",
    "        \n",
    "        for feat in features:\n",
    "            X_feat = X[:, feat]\n",
    "            thresholds = np.unique(X_feat)\n",
    "            for thresh in thresholds:\n",
    "                score = self._information_gain(X_feat, y, thresh)\n",
    "                \n",
    "                if score > split['score']:\n",
    "                    split['score'] = score\n",
    "                    split['feat'] = feat\n",
    "                    split['thresh'] = thresh\n",
    "    \n",
    "        return split['score'], split['feat'], split['thresh']\n",
    "    \n",
    "    def _build_tree(self, X, y, depth=0, parent_samples=0):\n",
    "        self.n_samples, self.n_features = X.shape\n",
    "        self.classes = len(np.unique(y))\n",
    "        if(depth > self.deepest): self.deepest = depth\n",
    "        rnd_feats = np.random.choice(self.n_features, self.n_features, replace=False)\n",
    "        score, best_feat, best_thresh = self._best_split(X, y, rnd_feats)\n",
    "\n",
    "        if self._is_finished(depth, parent_samples) or score == 0:\n",
    "            most_common_Label = np.argmax(np.bincount(y))\n",
    "            return Node(value=most_common_Label)\n",
    "        left_idx, right_idx = self._create_split(X[:, best_feat], best_thresh)\n",
    "        left_child = self._build_tree(X[left_idx, :], y[left_idx], depth + 1, self.n_samples)\n",
    "        right_child = self._build_tree(X[right_idx, :], y[right_idx], depth + 1, self.n_samples)\n",
    "        return Node(best_feat, best_thresh, left_child, right_child)\n",
    "\n",
    "    def fit(self, X, y):\n",
    "        self.root = self._build_tree(X, y)\n",
    "\n",
    "    def _predict_one(self, x, node):\n",
    "        if node.is_leaf():\n",
    "            return node.value\n",
    "        if x[node.feature] <= node.threshold:\n",
    "            return self._predict_one(x, node.left)\n",
    "        return self._predict_one(x, node.right)\n",
    "\n",
    "    def predict(self, X):\n",
    "        return [self._predict_one(x, self.root) for x in X]\n",
    "    \n",
    "    def getdeepest(self):\n",
    "        return self.deepest"
   ]
  },
  {
   "cell_type": "code",
   "execution_count": 124,
   "id": "20e0f4f9",
   "metadata": {},
   "outputs": [],
   "source": [
    "def accuracy(y_true, y_pred):\n",
    "    accuracy = np.sum(y_true == y_pred) / len(y_true)\n",
    "    return accuracy"
   ]
  },
  {
   "cell_type": "code",
   "execution_count": 125,
   "id": "2f5eaf20",
   "metadata": {},
   "outputs": [],
   "source": [
    "# dfx = read_file('./Dataset1_train/train/X_train.xlsx')\n",
    "# dfy = read_file('./Dataset1_train/train/y_train.xlsx')\n",
    "# df = pd.concat([dfx, dfy], axis=1)\n",
    "# print(df.describe())"
   ]
  },
  {
   "cell_type": "markdown",
   "id": "f53a1870",
   "metadata": {},
   "source": [
    "dfx = read_file('./Dataset1_train/train/X_train.xlsx')\n",
    "dfy = read_file('./Dataset1_train/train/y_train.xlsx')\n",
    "# df = pd.concat([dfx, dfy], axis=1)\n",
    "\n",
    "# remove outlier\n",
    "print(\"Old Shape: \", dfx.shape)\n",
    "print(np.bincount(dfy['class']))\n",
    "\n",
    "for feat in dfx.columns:\n",
    "    print(feat)\n",
    "    Q1 = np.nanpercentile(dfx[feat], 25,\n",
    "                   interpolation = 'midpoint')\n",
    " \n",
    "    Q3 = np.nanpercentile(dfx[feat], 75,\n",
    "                   interpolation = 'midpoint')\n",
    "    IQR = Q3 - Q1\n",
    "\n",
    "    # Upper bound\n",
    "    upper = np.where(dfx[feat] >= (Q3+1.5*IQR))\n",
    "    # Lower bound\n",
    "    lower = np.where(dfx[feat] <= (Q1-1.5*IQR))\n",
    "#     print(lower)\n",
    "#     print(upper)\n",
    "    \n",
    "    \n",
    "    if(len(upper[0]) > 10 or len(lower[0]) > 10):\n",
    "        print(\"upper: \", len(upper[0]), \" lower: \", len(lower[0]))\n",
    "        continue\n",
    "    ''' Removing the Outliers '''\n",
    "    dfx.drop(upper[0], inplace = True)\n",
    "    dfx.drop(lower[0], inplace = True)\n",
    "    dfx = dfx.reset_index(drop=True)\n",
    "    dfy.drop(upper[0], inplace = True)\n",
    "    dfy.drop(lower[0], inplace = True)\n",
    "    dfy = dfy.reset_index(drop=True)\n",
    "    print(\"New Shape: \", dfx.shape)\n",
    "print(\"New Shape: \", dfy.shape)\n",
    "print(np.bincount(dfy['class']))\n"
   ]
  },
  {
   "cell_type": "code",
   "execution_count": 127,
   "id": "07e69e5a",
   "metadata": {
    "scrolled": true
   },
   "outputs": [
    {
     "name": "stderr",
     "output_type": "stream",
     "text": [
      "C:\\Users\\user\\anaconda3\\lib\\site-packages\\seaborn\\_decorators.py:36: FutureWarning: Pass the following variable as a keyword arg: x. From version 0.12, the only valid positional argument will be `data`, and passing other arguments without an explicit keyword will result in an error or misinterpretation.\n",
      "  warnings.warn(\n"
     ]
    },
    {
     "data": {
      "text/plain": [
       "<AxesSubplot:xlabel='chlorides'>"
      ]
     },
     "execution_count": 127,
     "metadata": {},
     "output_type": "execute_result"
    },
    {
     "data": {
      "image/png": "[encoded data removed]",
      "text/plain": [
       "<Figure size 432x288 with 1 Axes>"
      ]
     },
     "metadata": {
      "needs_background": "light"
     },
     "output_type": "display_data"
    }
   ],
   "source": [
    "odfx = read_file('./Dataset1_train/train/X_train.xlsx')\n",
    "sns.boxplot(odfx['chlorides'])\n"
   ]
  },
  {
   "cell_type": "code",
   "execution_count": 128,
   "id": "428e8ec1",
   "metadata": {},
   "outputs": [
    {
     "name": "stderr",
     "output_type": "stream",
     "text": [
      "C:\\Users\\user\\anaconda3\\lib\\site-packages\\seaborn\\_decorators.py:36: FutureWarning: Pass the following variable as a keyword arg: x. From version 0.12, the only valid positional argument will be `data`, and passing other arguments without an explicit keyword will result in an error or misinterpretation.\n",
      "  warnings.warn(\n"
     ]
    },
    {
     "data": {
      "text/plain": [
       "<AxesSubplot:xlabel='chlorides'>"
      ]
     },
     "execution_count": 128,
     "metadata": {},
     "output_type": "execute_result"
    },
    {
     "data": {
      "image/png": "[encoded data removed]",
      "text/plain": [
       "<Figure size 432x288 with 1 Axes>"
      ]
     },
     "metadata": {
      "needs_background": "light"
     },
     "output_type": "display_data"
    }
   ],
   "source": [
    "\n",
    "sns.boxplot(dfx['chlorides'])\n",
    "# sns.boxplot(df['volatile_acidity'])\n",
    "# sns.boxplot(df['citric_acid'])\n",
    "# sns.boxplot(df['chlorides'])\n",
    "# sns.boxplot(df['free_sulfur_dioxide'])\n",
    "# sns.boxplot(df['total_sulfur_dioxide'])\n",
    "# sns.boxplot(df['density'])\n",
    "# sns.boxplot(df['pH'])\n",
    "# sns.boxplot(df['sulphates'])\n",
    "# sns.boxplot(df['alcohol'])\n",
    "# sns.boxplot(df['class'])"
   ]
  },
  {
   "cell_type": "code",
   "execution_count": 129,
   "id": "ef734967",
   "metadata": {},
   "outputs": [
    {
     "name": "stdout",
     "output_type": "stream",
     "text": [
      "Data Before performing imputation\n",
      " [[ 7.    0.23  0.4  ...  3.5   0.63 11.1 ]\n",
      " [ 7.8   0.6   0.26 ...   nan  0.52  9.9 ]\n",
      " [ 9.7   0.69  0.32 ...  3.29  0.62 10.1 ]\n",
      " ...\n",
      " [ 7.8   0.53  0.04 ...  3.33   nan 10.  ]\n",
      " [ 7.3   0.43  0.24 ...  3.6   0.59 11.1 ]\n",
      " [ 9.1   0.5   0.3  ...  3.32  0.71 10.5 ]]\n",
      "\n",
      "\n",
      "After performing imputation\n",
      " [[ 7.          0.23        0.4        ...  3.5         0.63\n",
      "  11.1       ]\n",
      " [ 7.8         0.6         0.26       ...  3.21        0.52\n",
      "   9.9       ]\n",
      " [ 9.7         0.69        0.32       ...  3.29        0.62\n",
      "  10.1       ]\n",
      " ...\n",
      " [ 7.8         0.53        0.04       ...  3.33        0.63755961\n",
      "  10.        ]\n",
      " [ 7.3         0.43        0.24       ...  3.6         0.59\n",
      "  11.1       ]\n",
      " [ 9.1         0.5         0.3        ...  3.32        0.71\n",
      "  10.5       ]]\n"
     ]
    }
   ],
   "source": [
    "Before_imputation = dfx\n",
    "imputer = KNNImputer(n_neighbors=5, weights='distance')\n",
    "After_imputation  = imputer.fit_transform(Before_imputation )\n",
    "print(\"Data Before performing imputation\\n\",Before_imputation.values)\n",
    "print(\"\\n\\nAfter performing imputation\\n\",After_imputation)"
   ]
  },
  {
   "cell_type": "code",
   "execution_count": 130,
   "id": "863251cf",
   "metadata": {},
   "outputs": [
    {
     "name": "stdout",
     "output_type": "stream",
     "text": [
      "fixed_acidity           64\n",
      "volatile_acidity        43\n",
      "citric_acid             58\n",
      "residual_sugar          38\n",
      "chlorides               52\n",
      "free_sulfur_dioxide     54\n",
      "total_sulfur_dioxide    45\n",
      "density                 43\n",
      "pH                      58\n",
      "sulphates               48\n",
      "alcohol                 57\n",
      "dtype: int64\n",
      "0     0\n",
      "1     0\n",
      "2     0\n",
      "3     0\n",
      "4     0\n",
      "5     0\n",
      "6     0\n",
      "7     0\n",
      "8     0\n",
      "9     0\n",
      "10    0\n",
      "dtype: int64\n"
     ]
    }
   ],
   "source": [
    "def count_missing(data) : \n",
    "    missing = data.isnull().sum()  \n",
    "    missing = missing[ missing>0 ]\n",
    "        \n",
    "    missing.sort_values( ascending=False, inplace=True )  \n",
    "    count = pd.DataFrame( { 'Feature':missing.index, 'Missing Count':missing.values } ) \n",
    "    count[ 'Percentage' ] = count['Missing Count'].apply( lambda x: '{:.2%}'.format(x/data.shape[0] ))\n",
    "    return  count\n",
    "\n",
    "imputed = pd.DataFrame(After_imputation)\n",
    "print(dfx.isnull().sum())\n",
    "print(imputed.isnull().sum())\n"
   ]
  },
  {
   "cell_type": "code",
   "execution_count": 131,
   "id": "7cf843a6",
   "metadata": {},
   "outputs": [
    {
     "name": "stdout",
     "output_type": "stream",
     "text": [
      "990\n",
      "990\n",
      "792\n",
      "198\n"
     ]
    }
   ],
   "source": [
    "# X_train, y_train = dfx.values, dfy['class'].values\n",
    "X_train, y_train = imputed.values, dfy['class'].values\n",
    "print(len(X_train))\n",
    "print(len(y_train))\n",
    "X_train_, X_val, y_train_, y_val = train_test_split(X_train, y_train, test_size=0.2, stratify=y_train)\n",
    "print(len(X_train_))\n",
    "print(len(X_val))"
   ]
  },
  {
   "cell_type": "code",
   "execution_count": 132,
   "id": "db9fb6a8",
   "metadata": {
    "scrolled": true
   },
   "outputs": [
    {
     "name": "stdout",
     "output_type": "stream",
     "text": [
      "Depth:  2 2  Accuracy: 0.6060606060606061 0.5777777777777777\n",
      "Depth:  3 3  Accuracy: 0.5959595959595959 0.5858585858585859\n",
      "Depth:  4 4  Accuracy: 0.5707070707070707 0.597979797979798\n",
      "Depth:  5 5  Accuracy: 0.5303030303030303 0.6181818181818182\n",
      "Depth:  6 6  Accuracy: 0.4595959595959596 0.6646464646464646\n",
      "Depth:  7 7  Accuracy: 0.494949494949495 0.7111111111111111\n",
      "Depth:  8 8  Accuracy: 0.46464646464646464 0.7313131313131314\n",
      "Depth:  9 9  Accuracy: 0.5555555555555556 0.7929292929292929\n",
      "Depth:  10 10  Accuracy: 0.5353535353535354 0.8090909090909091\n",
      "Depth:  11 11  Accuracy: 0.5757575757575758 0.8313131313131313\n",
      "Depth:  12 12  Accuracy: 0.5656565656565656 0.8434343434343434\n",
      "Depth:  13 13  Accuracy: 0.5505050505050505 0.8545454545454545\n",
      "Depth:  14 14  Accuracy: 0.5404040404040404 0.8494949494949495\n",
      "Depth:  15 15  Accuracy: 0.5454545454545454 0.8606060606060606\n",
      "Depth:  16 16  Accuracy: 0.5353535353535354 0.8636363636363636\n",
      "Depth:  17 17  Accuracy: 0.5606060606060606 0.8656565656565657\n",
      "Depth:  18 18  Accuracy: 0.5353535353535354 0.8666666666666667\n",
      "Depth:  19 17  Accuracy: 0.5505050505050505 0.8676767676767677\n",
      "Depth:  20 17  Accuracy: 0.5404040404040404 0.8666666666666667\n",
      "Depth:  21 17  Accuracy: 0.5606060606060606 0.8696969696969697\n",
      "Depth:  22 17  Accuracy: 0.5808080808080808 0.8737373737373737\n",
      "Depth:  23 18  Accuracy: 0.5555555555555556 0.8696969696969697\n",
      "Depth:  24 19  Accuracy: 0.5656565656565656 0.8717171717171717\n",
      "Depth:  25 19  Accuracy: 0.5505050505050505 0.8686868686868687\n",
      "Depth:  26 19  Accuracy: 0.601010101010101 0.8787878787878788\n",
      "Depth:  27 19  Accuracy: 0.5606060606060606 0.8707070707070707\n",
      "Depth:  28 19  Accuracy: 0.5505050505050505 0.8696969696969697\n",
      "Depth:  29 17  Accuracy: 0.5454545454545454 0.8676767676767677\n"
     ]
    }
   ],
   "source": [
    "for depth in range(2, 30):\n",
    "#     X_train_, X_val, y_train_, y_val = train_test_split(X_train, y_train, test_size=0.2, stratify=y_train)\n",
    "    clf = DecisionTree(max_depth=depth)\n",
    "    clf.fit(X_train_, y_train_)\n",
    "    train_pred = clf.predict(X_train)\n",
    "    y_pred = clf.predict(X_val)\n",
    "    acc = accuracy(y_val, y_pred)\n",
    "    trainacc = accuracy(train_pred, y_train)\n",
    "    print(\"Depth: \", depth, clf.getdeepest(), \" Accuracy:\", acc, trainacc)"
   ]
  },
  {
   "cell_type": "code",
   "execution_count": 133,
   "id": "4056ccbd",
   "metadata": {},
   "outputs": [
    {
     "name": "stdout",
     "output_type": "stream",
     "text": [
      "Accuracy: 0.5454545454545454\n",
      "Confusion Matrix:\n",
      "[[ 0  0  0  1  0  0]\n",
      " [ 0  0  1  3  2  0]\n",
      " [ 1  6 52 25  0  0]\n",
      " [ 0  3 24 43 11  1]\n",
      " [ 0  0  1  8 13  1]\n",
      " [ 0  0  0  1  1  0]]\n",
      "Classification Report:\n",
      "              precision    recall  f1-score   support\n",
      "\n",
      "           3       0.00      0.00      0.00         1\n",
      "           4       0.00      0.00      0.00         6\n",
      "           5       0.67      0.62      0.64        84\n",
      "           6       0.53      0.52      0.53        82\n",
      "           7       0.48      0.57      0.52        23\n",
      "           8       0.00      0.00      0.00         2\n",
      "\n",
      "    accuracy                           0.55       198\n",
      "   macro avg       0.28      0.28      0.28       198\n",
      "weighted avg       0.56      0.55      0.55       198\n",
      "\n",
      "[ 0  0  0  1  9 78 81 27  2]\n",
      "[ 0  0  0  1  6 84 82 23  2]\n",
      "198\n",
      "990\n"
     ]
    }
   ],
   "source": [
    "report(y_pred, y_val)\n",
    "print(np.bincount(y_pred))\n",
    "print(np.bincount(y_val))\n",
    "print(len(X_val))\n",
    "print(len(X_train))"
   ]
  }
 ],
 "metadata": {
  "kernelspec": {
   "display_name": "Python 3 (ipykernel)",
   "language": "python",
   "name": "python3"
  },
  "language_info": {
   "codemirror_mode": {
    "name": "ipython",
    "version": 3
   },
   "file_extension": ".py",
   "mimetype": "text/x-python",
   "name": "python",
   "nbconvert_exporter": "python",
   "pygments_lexer": "ipython3",
   "version": "3.9.12"
  }
 },
 "nbformat": 4,
 "nbformat_minor": 5
}
